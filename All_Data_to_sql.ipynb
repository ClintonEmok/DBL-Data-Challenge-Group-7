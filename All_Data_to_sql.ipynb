{
 "cells": [
  {
   "cell_type": "code",
   "execution_count": 103,
   "id": "a1f75f95",
   "metadata": {},
   "outputs": [
    {
     "data": {
      "text/plain": [
       "'To run this code a file named Data containing all json files should be located in the same directory as the file your running this notebook in. '"
      ]
     },
     "execution_count": 103,
     "metadata": {},
     "output_type": "execute_result"
    }
   ],
   "source": [
    "\"\"\"To run this code a file named Data containing all json files should be located in the same directory as the file your running this notebook in. \"\"\"\n"
   ]
  },
  {
   "cell_type": "code",
   "execution_count": null,
   "id": "48eb1fc4",
   "metadata": {},
   "outputs": [],
   "source": [
    "import numpy as np\n",
    "import json as json\n",
    "import pandas as pd\n",
    "from pandas.io.json import json_normalize\n",
    "import mysql.connector\n",
    "import pyodbc\n",
    "import os\n",
    "import sqlite3"
   ]
  },
  {
   "cell_type": "code",
   "execution_count": 100,
   "id": "a5b312ac",
   "metadata": {},
   "outputs": [
    {
     "name": "stdout",
     "output_type": "stream",
     "text": [
      "Table is Ready\n"
     ]
    },
    {
     "name": "stderr",
     "output_type": "stream",
     "text": [
      "<ipython-input-100-d1231210a9d4>:77: SettingWithCopyWarning: \n",
      "A value is trying to be set on a copy of a slice from a DataFrame\n",
      "\n",
      "See the caveats in the documentation: https://pandas.pydata.org/pandas-docs/stable/user_guide/indexing.html#returning-a-view-versus-a-copy\n",
      "  df_main_flat_clean[cols].dropna(inplace=True)\n"
     ]
    },
    {
     "name": "stdout",
     "output_type": "stream",
     "text": [
      "1\n"
     ]
    },
    {
     "name": "stderr",
     "output_type": "stream",
     "text": [
      "<ipython-input-100-d1231210a9d4>:77: SettingWithCopyWarning: \n",
      "A value is trying to be set on a copy of a slice from a DataFrame\n",
      "\n",
      "See the caveats in the documentation: https://pandas.pydata.org/pandas-docs/stable/user_guide/indexing.html#returning-a-view-versus-a-copy\n",
      "  df_main_flat_clean[cols].dropna(inplace=True)\n"
     ]
    },
    {
     "name": "stdout",
     "output_type": "stream",
     "text": [
      "2\n",
      "1 error\n",
      "2 error\n"
     ]
    },
    {
     "name": "stderr",
     "output_type": "stream",
     "text": [
      "<ipython-input-100-d1231210a9d4>:77: SettingWithCopyWarning: \n",
      "A value is trying to be set on a copy of a slice from a DataFrame\n",
      "\n",
      "See the caveats in the documentation: https://pandas.pydata.org/pandas-docs/stable/user_guide/indexing.html#returning-a-view-versus-a-copy\n",
      "  df_main_flat_clean[cols].dropna(inplace=True)\n"
     ]
    },
    {
     "name": "stdout",
     "output_type": "stream",
     "text": [
      "3\n"
     ]
    },
    {
     "name": "stderr",
     "output_type": "stream",
     "text": [
      "<ipython-input-100-d1231210a9d4>:77: SettingWithCopyWarning: \n",
      "A value is trying to be set on a copy of a slice from a DataFrame\n",
      "\n",
      "See the caveats in the documentation: https://pandas.pydata.org/pandas-docs/stable/user_guide/indexing.html#returning-a-view-versus-a-copy\n",
      "  df_main_flat_clean[cols].dropna(inplace=True)\n"
     ]
    },
    {
     "name": "stdout",
     "output_type": "stream",
     "text": [
      "4\n"
     ]
    },
    {
     "name": "stderr",
     "output_type": "stream",
     "text": [
      "<ipython-input-100-d1231210a9d4>:77: SettingWithCopyWarning: \n",
      "A value is trying to be set on a copy of a slice from a DataFrame\n",
      "\n",
      "See the caveats in the documentation: https://pandas.pydata.org/pandas-docs/stable/user_guide/indexing.html#returning-a-view-versus-a-copy\n",
      "  df_main_flat_clean[cols].dropna(inplace=True)\n"
     ]
    },
    {
     "name": "stdout",
     "output_type": "stream",
     "text": [
      "5\n"
     ]
    },
    {
     "name": "stderr",
     "output_type": "stream",
     "text": [
      "<ipython-input-100-d1231210a9d4>:77: SettingWithCopyWarning: \n",
      "A value is trying to be set on a copy of a slice from a DataFrame\n",
      "\n",
      "See the caveats in the documentation: https://pandas.pydata.org/pandas-docs/stable/user_guide/indexing.html#returning-a-view-versus-a-copy\n",
      "  df_main_flat_clean[cols].dropna(inplace=True)\n"
     ]
    },
    {
     "name": "stdout",
     "output_type": "stream",
     "text": [
      "6\n"
     ]
    },
    {
     "name": "stderr",
     "output_type": "stream",
     "text": [
      "<ipython-input-100-d1231210a9d4>:77: SettingWithCopyWarning: \n",
      "A value is trying to be set on a copy of a slice from a DataFrame\n",
      "\n",
      "See the caveats in the documentation: https://pandas.pydata.org/pandas-docs/stable/user_guide/indexing.html#returning-a-view-versus-a-copy\n",
      "  df_main_flat_clean[cols].dropna(inplace=True)\n"
     ]
    },
    {
     "name": "stdout",
     "output_type": "stream",
     "text": [
      "7\n"
     ]
    },
    {
     "name": "stderr",
     "output_type": "stream",
     "text": [
      "<ipython-input-100-d1231210a9d4>:77: SettingWithCopyWarning: \n",
      "A value is trying to be set on a copy of a slice from a DataFrame\n",
      "\n",
      "See the caveats in the documentation: https://pandas.pydata.org/pandas-docs/stable/user_guide/indexing.html#returning-a-view-versus-a-copy\n",
      "  df_main_flat_clean[cols].dropna(inplace=True)\n"
     ]
    },
    {
     "name": "stdout",
     "output_type": "stream",
     "text": [
      "8\n"
     ]
    }
   ],
   "source": [
    "def create_db():\n",
    "    #make connection object to connect with database\n",
    "    connection_obj = sqlite3.connect('DBL_GROUP_7.db')\n",
    " \n",
    "    # cursor object\n",
    "    cursor_obj = connection_obj.cursor()\n",
    " \n",
    "    # Drop the data table if already exists.\n",
    "    cursor_obj.execute(\"DROP TABLE IF EXISTS All_DATA\")\n",
    " \n",
    "    # Creating table\n",
    "    table = \"\"\" CREATE TABLE all_data (\n",
    "            created_at VARCHAR(255) NOT NULL,\n",
    "            id INT NOT NULL,\n",
    "            text VARCHAR(255),\n",
    "            truncated VARCHAR(255),\n",
    "            in_reply_to_status_id VARCHAR(255),\n",
    "            reply_count INT,\n",
    "            retweet_count INT,\n",
    "            favorite_count INT,\n",
    "            lang VARCHAR,\n",
    "            timestamp VARCHAR,\n",
    "            extended_tweet VARCHAR,\n",
    "            user_id INT,\n",
    "            user_name VARCHAR,\n",
    "            entities_user_mentions VARCHAR\n",
    "            \n",
    "        ); \"\"\"\n",
    " \n",
    "    cursor_obj.execute(table)\n",
    "   \n",
    " \n",
    "    print(\"Table is Ready\")\n",
    " \n",
    "    # Close the connection\n",
    "    connection_obj.close()\n",
    "    \n",
    "\n",
    "\n",
    "    \n",
    "DB_FILE_PATH = 'DBL_GROUP_7'\n",
    "\n",
    "def connect_to_db(db_file):\n",
    "    \"\"\"\n",
    "    Connect to an SQlite database, if db file does not exist it will be created\n",
    "    :param db_file: absolute or relative path of db file\n",
    "    :return: sqlite3 connection\n",
    "    \"\"\"\n",
    "    sqlite3_conn = None\n",
    "\n",
    "    try:\n",
    "        sqlite3_conn = sqlite3.connect(db_file)\n",
    "        return sqlite3_conn\n",
    "\n",
    "    except Error as err:\n",
    "        print(err)\n",
    "\n",
    "        if sqlite3_conn is not None:\n",
    "            sqlite3_conn.close()\n",
    "\n",
    "\n",
    "def load_data(file):\n",
    "    #using the connec_to_db function to connect to database\n",
    "    conn = connect_to_db(DB_FILE_PATH)\n",
    "    # Reading data from file directory\n",
    "    df = pd.read_json(file, lines=True)\n",
    "    # Dropping all rows which contain Nan values from column of cols\n",
    "    df_main = df.drop(df[df.lang != 'en'].index)\n",
    "    # Normalize data in different json tables to make it one table\n",
    "    df_main_flat= pd.json_normalize(json.loads(df_main.to_json(orient=\"records\")))\n",
    "    # Selecting columns we need for analyzing\n",
    "    df_main_flat_clean = df_main_flat[['created_at', 'id', 'text', 'user.id', 'truncated', 'in_reply_to_status_id', 'reply_count', 'retweet_count', 'favorite_count', 'lang', 'timestamp_ms', 'extended_tweet', 'user.name']].copy()\n",
    "    # Changing all values in columns listed below that have a 0 or no value to Nan values\n",
    "    cols = ['created_at', 'id', 'text', 'user.id']\n",
    "    df_main_flat_clean[cols] = df_main_flat_clean[cols].replace({'0':np.nan, 0:np.nan, '':np.nan, ' ':np.nan})\n",
    "    # Dropping all rows which contain Nan values from column of cols\n",
    "    df_main_flat_clean[cols].dropna(inplace=True)\n",
    "    # Appending remaining dataframe to sql database\n",
    "    df_main_flat_clean.to_sql(name='all_data', con=conn, if_exists='append', index=False)\n",
    "    \n",
    "    \n",
    "    \n",
    "create_db()\n",
    "\n",
    "# select directory which has all of the json files\n",
    "a_directory = \"Data\"\n",
    "# making variable for indicating number of succesfull attempt of opening files\n",
    "correct = 0\n",
    "# making variable for indicating number of unsuccesfull attempt of opening files\n",
    "incorrect = 0\n",
    "\n",
    "#this for loop will call the load_data function for every file in the directory\n",
    "for file in os.listdir(a_directory)[:10]:\n",
    "    filepath = os.path.join(a_directory, file)\n",
    "    try:\n",
    "        load_data(filepath)\n",
    "        correct += 1\n",
    "        print(correct)\n",
    "    except: \n",
    "        incorrect += 1\n",
    "        print(f'{incorrect} error')\n",
    "\n"
   ]
  },
  {
   "cell_type": "code",
   "execution_count": null,
   "id": "a57c6374",
   "metadata": {},
   "outputs": [],
   "source": []
  }
 ],
 "metadata": {
  "kernelspec": {
   "display_name": "Python 3",
   "language": "python",
   "name": "python3"
  },
  "language_info": {
   "codemirror_mode": {
    "name": "ipython",
    "version": 3
   },
   "file_extension": ".py",
   "mimetype": "text/x-python",
   "name": "python",
   "nbconvert_exporter": "python",
   "pygments_lexer": "ipython3",
   "version": "3.8.8"
  }
 },
 "nbformat": 4,
 "nbformat_minor": 5
}
