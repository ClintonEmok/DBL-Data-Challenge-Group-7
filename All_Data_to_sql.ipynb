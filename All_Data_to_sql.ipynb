{
 "cells": [
  {
   "cell_type": "code",
   "execution_count": 1,
   "id": "176dfc8b",
   "metadata": {},
   "outputs": [
    {
     "data": {
      "text/plain": [
       "'To run this code a file named Data containing all json files should be located in the same directory as the file your running this notebook in. '"
      ]
     },
     "execution_count": 1,
     "metadata": {},
     "output_type": "execute_result"
    }
   ],
   "source": [
    "\"\"\"To run this code a file named Data containing all json files should be located in the same directory as the file your running this notebook in. \"\"\"\n"
   ]
  },
  {
   "cell_type": "code",
   "execution_count": 10,
   "id": "864255a8",
   "metadata": {},
   "outputs": [],
   "source": [
    "import numpy as np\n",
    "import json as json\n",
    "import pandas as pd\n",
    "from pandas.io.json import json_normalize\n",
    "import mysql.connector\n",
    "import pyodbc\n",
    "import os\n",
    "import sqlite3\n",
    "import datetime"
   ]
  },
  {
   "cell_type": "code",
   "execution_count": null,
   "id": "a5b312ac",
   "metadata": {},
   "outputs": [
    {
     "name": "stdout",
     "output_type": "stream",
     "text": [
      "Table is Ready\n"
     ]
    },
    {
     "name": "stderr",
     "output_type": "stream",
     "text": [
      "<ipython-input-11-e44630952ad2>:79: SettingWithCopyWarning: \n",
      "A value is trying to be set on a copy of a slice from a DataFrame\n",
      "\n",
      "See the caveats in the documentation: https://pandas.pydata.org/pandas-docs/stable/user_guide/indexing.html#returning-a-view-versus-a-copy\n",
      "  df_main_flat_clean[cols].dropna(inplace=True)\n"
     ]
    },
    {
     "name": "stdout",
     "output_type": "stream",
     "text": [
      "1\n"
     ]
    },
    {
     "name": "stderr",
     "output_type": "stream",
     "text": [
      "<ipython-input-11-e44630952ad2>:79: SettingWithCopyWarning: \n",
      "A value is trying to be set on a copy of a slice from a DataFrame\n",
      "\n",
      "See the caveats in the documentation: https://pandas.pydata.org/pandas-docs/stable/user_guide/indexing.html#returning-a-view-versus-a-copy\n",
      "  df_main_flat_clean[cols].dropna(inplace=True)\n"
     ]
    },
    {
     "name": "stdout",
     "output_type": "stream",
     "text": [
      "2\n",
      "1 error\n",
      "2 error\n"
     ]
    },
    {
     "name": "stderr",
     "output_type": "stream",
     "text": [
      "<ipython-input-11-e44630952ad2>:79: SettingWithCopyWarning: \n",
      "A value is trying to be set on a copy of a slice from a DataFrame\n",
      "\n",
      "See the caveats in the documentation: https://pandas.pydata.org/pandas-docs/stable/user_guide/indexing.html#returning-a-view-versus-a-copy\n",
      "  df_main_flat_clean[cols].dropna(inplace=True)\n"
     ]
    },
    {
     "name": "stdout",
     "output_type": "stream",
     "text": [
      "3\n"
     ]
    },
    {
     "name": "stderr",
     "output_type": "stream",
     "text": [
      "<ipython-input-11-e44630952ad2>:79: SettingWithCopyWarning: \n",
      "A value is trying to be set on a copy of a slice from a DataFrame\n",
      "\n",
      "See the caveats in the documentation: https://pandas.pydata.org/pandas-docs/stable/user_guide/indexing.html#returning-a-view-versus-a-copy\n",
      "  df_main_flat_clean[cols].dropna(inplace=True)\n"
     ]
    },
    {
     "name": "stdout",
     "output_type": "stream",
     "text": [
      "4\n"
     ]
    },
    {
     "name": "stderr",
     "output_type": "stream",
     "text": [
      "<ipython-input-11-e44630952ad2>:79: SettingWithCopyWarning: \n",
      "A value is trying to be set on a copy of a slice from a DataFrame\n",
      "\n",
      "See the caveats in the documentation: https://pandas.pydata.org/pandas-docs/stable/user_guide/indexing.html#returning-a-view-versus-a-copy\n",
      "  df_main_flat_clean[cols].dropna(inplace=True)\n"
     ]
    },
    {
     "name": "stdout",
     "output_type": "stream",
     "text": [
      "5\n"
     ]
    },
    {
     "name": "stderr",
     "output_type": "stream",
     "text": [
      "<ipython-input-11-e44630952ad2>:79: SettingWithCopyWarning: \n",
      "A value is trying to be set on a copy of a slice from a DataFrame\n",
      "\n",
      "See the caveats in the documentation: https://pandas.pydata.org/pandas-docs/stable/user_guide/indexing.html#returning-a-view-versus-a-copy\n",
      "  df_main_flat_clean[cols].dropna(inplace=True)\n"
     ]
    },
    {
     "name": "stdout",
     "output_type": "stream",
     "text": [
      "6\n"
     ]
    },
    {
     "name": "stderr",
     "output_type": "stream",
     "text": [
      "<ipython-input-11-e44630952ad2>:79: SettingWithCopyWarning: \n",
      "A value is trying to be set on a copy of a slice from a DataFrame\n",
      "\n",
      "See the caveats in the documentation: https://pandas.pydata.org/pandas-docs/stable/user_guide/indexing.html#returning-a-view-versus-a-copy\n",
      "  df_main_flat_clean[cols].dropna(inplace=True)\n"
     ]
    },
    {
     "name": "stdout",
     "output_type": "stream",
     "text": [
      "7\n"
     ]
    },
    {
     "name": "stderr",
     "output_type": "stream",
     "text": [
      "<ipython-input-11-e44630952ad2>:79: SettingWithCopyWarning: \n",
      "A value is trying to be set on a copy of a slice from a DataFrame\n",
      "\n",
      "See the caveats in the documentation: https://pandas.pydata.org/pandas-docs/stable/user_guide/indexing.html#returning-a-view-versus-a-copy\n",
      "  df_main_flat_clean[cols].dropna(inplace=True)\n"
     ]
    },
    {
     "name": "stdout",
     "output_type": "stream",
     "text": [
      "8\n"
     ]
    },
    {
     "name": "stderr",
     "output_type": "stream",
     "text": [
      "<ipython-input-11-e44630952ad2>:79: SettingWithCopyWarning: \n",
      "A value is trying to be set on a copy of a slice from a DataFrame\n",
      "\n",
      "See the caveats in the documentation: https://pandas.pydata.org/pandas-docs/stable/user_guide/indexing.html#returning-a-view-versus-a-copy\n",
      "  df_main_flat_clean[cols].dropna(inplace=True)\n"
     ]
    },
    {
     "name": "stdout",
     "output_type": "stream",
     "text": [
      "9\n"
     ]
    },
    {
     "name": "stderr",
     "output_type": "stream",
     "text": [
      "<ipython-input-11-e44630952ad2>:79: SettingWithCopyWarning: \n",
      "A value is trying to be set on a copy of a slice from a DataFrame\n",
      "\n",
      "See the caveats in the documentation: https://pandas.pydata.org/pandas-docs/stable/user_guide/indexing.html#returning-a-view-versus-a-copy\n",
      "  df_main_flat_clean[cols].dropna(inplace=True)\n"
     ]
    },
    {
     "name": "stdout",
     "output_type": "stream",
     "text": [
      "10\n"
     ]
    },
    {
     "name": "stderr",
     "output_type": "stream",
     "text": [
      "<ipython-input-11-e44630952ad2>:79: SettingWithCopyWarning: \n",
      "A value is trying to be set on a copy of a slice from a DataFrame\n",
      "\n",
      "See the caveats in the documentation: https://pandas.pydata.org/pandas-docs/stable/user_guide/indexing.html#returning-a-view-versus-a-copy\n",
      "  df_main_flat_clean[cols].dropna(inplace=True)\n"
     ]
    },
    {
     "name": "stdout",
     "output_type": "stream",
     "text": [
      "11\n"
     ]
    },
    {
     "name": "stderr",
     "output_type": "stream",
     "text": [
      "<ipython-input-11-e44630952ad2>:79: SettingWithCopyWarning: \n",
      "A value is trying to be set on a copy of a slice from a DataFrame\n",
      "\n",
      "See the caveats in the documentation: https://pandas.pydata.org/pandas-docs/stable/user_guide/indexing.html#returning-a-view-versus-a-copy\n",
      "  df_main_flat_clean[cols].dropna(inplace=True)\n"
     ]
    },
    {
     "name": "stdout",
     "output_type": "stream",
     "text": [
      "12\n"
     ]
    },
    {
     "name": "stderr",
     "output_type": "stream",
     "text": [
      "<ipython-input-11-e44630952ad2>:79: SettingWithCopyWarning: \n",
      "A value is trying to be set on a copy of a slice from a DataFrame\n",
      "\n",
      "See the caveats in the documentation: https://pandas.pydata.org/pandas-docs/stable/user_guide/indexing.html#returning-a-view-versus-a-copy\n",
      "  df_main_flat_clean[cols].dropna(inplace=True)\n"
     ]
    },
    {
     "name": "stdout",
     "output_type": "stream",
     "text": [
      "13\n"
     ]
    },
    {
     "name": "stderr",
     "output_type": "stream",
     "text": [
      "<ipython-input-11-e44630952ad2>:79: SettingWithCopyWarning: \n",
      "A value is trying to be set on a copy of a slice from a DataFrame\n",
      "\n",
      "See the caveats in the documentation: https://pandas.pydata.org/pandas-docs/stable/user_guide/indexing.html#returning-a-view-versus-a-copy\n",
      "  df_main_flat_clean[cols].dropna(inplace=True)\n"
     ]
    },
    {
     "name": "stdout",
     "output_type": "stream",
     "text": [
      "14\n"
     ]
    },
    {
     "name": "stderr",
     "output_type": "stream",
     "text": [
      "<ipython-input-11-e44630952ad2>:79: SettingWithCopyWarning: \n",
      "A value is trying to be set on a copy of a slice from a DataFrame\n",
      "\n",
      "See the caveats in the documentation: https://pandas.pydata.org/pandas-docs/stable/user_guide/indexing.html#returning-a-view-versus-a-copy\n",
      "  df_main_flat_clean[cols].dropna(inplace=True)\n"
     ]
    },
    {
     "name": "stdout",
     "output_type": "stream",
     "text": [
      "15\n"
     ]
    },
    {
     "name": "stderr",
     "output_type": "stream",
     "text": [
      "<ipython-input-11-e44630952ad2>:79: SettingWithCopyWarning: \n",
      "A value is trying to be set on a copy of a slice from a DataFrame\n",
      "\n",
      "See the caveats in the documentation: https://pandas.pydata.org/pandas-docs/stable/user_guide/indexing.html#returning-a-view-versus-a-copy\n",
      "  df_main_flat_clean[cols].dropna(inplace=True)\n"
     ]
    },
    {
     "name": "stdout",
     "output_type": "stream",
     "text": [
      "16\n"
     ]
    },
    {
     "name": "stderr",
     "output_type": "stream",
     "text": [
      "<ipython-input-11-e44630952ad2>:79: SettingWithCopyWarning: \n",
      "A value is trying to be set on a copy of a slice from a DataFrame\n",
      "\n",
      "See the caveats in the documentation: https://pandas.pydata.org/pandas-docs/stable/user_guide/indexing.html#returning-a-view-versus-a-copy\n",
      "  df_main_flat_clean[cols].dropna(inplace=True)\n"
     ]
    },
    {
     "name": "stdout",
     "output_type": "stream",
     "text": [
      "17\n"
     ]
    },
    {
     "name": "stderr",
     "output_type": "stream",
     "text": [
      "<ipython-input-11-e44630952ad2>:79: SettingWithCopyWarning: \n",
      "A value is trying to be set on a copy of a slice from a DataFrame\n",
      "\n",
      "See the caveats in the documentation: https://pandas.pydata.org/pandas-docs/stable/user_guide/indexing.html#returning-a-view-versus-a-copy\n",
      "  df_main_flat_clean[cols].dropna(inplace=True)\n"
     ]
    },
    {
     "name": "stdout",
     "output_type": "stream",
     "text": [
      "18\n"
     ]
    },
    {
     "name": "stderr",
     "output_type": "stream",
     "text": [
      "<ipython-input-11-e44630952ad2>:79: SettingWithCopyWarning: \n",
      "A value is trying to be set on a copy of a slice from a DataFrame\n",
      "\n",
      "See the caveats in the documentation: https://pandas.pydata.org/pandas-docs/stable/user_guide/indexing.html#returning-a-view-versus-a-copy\n",
      "  df_main_flat_clean[cols].dropna(inplace=True)\n"
     ]
    },
    {
     "name": "stdout",
     "output_type": "stream",
     "text": [
      "19\n"
     ]
    },
    {
     "name": "stderr",
     "output_type": "stream",
     "text": [
      "<ipython-input-11-e44630952ad2>:79: SettingWithCopyWarning: \n",
      "A value is trying to be set on a copy of a slice from a DataFrame\n",
      "\n",
      "See the caveats in the documentation: https://pandas.pydata.org/pandas-docs/stable/user_guide/indexing.html#returning-a-view-versus-a-copy\n",
      "  df_main_flat_clean[cols].dropna(inplace=True)\n"
     ]
    },
    {
     "name": "stdout",
     "output_type": "stream",
     "text": [
      "20\n"
     ]
    },
    {
     "name": "stderr",
     "output_type": "stream",
     "text": [
      "<ipython-input-11-e44630952ad2>:79: SettingWithCopyWarning: \n",
      "A value is trying to be set on a copy of a slice from a DataFrame\n",
      "\n",
      "See the caveats in the documentation: https://pandas.pydata.org/pandas-docs/stable/user_guide/indexing.html#returning-a-view-versus-a-copy\n",
      "  df_main_flat_clean[cols].dropna(inplace=True)\n"
     ]
    },
    {
     "name": "stdout",
     "output_type": "stream",
     "text": [
      "21\n"
     ]
    },
    {
     "name": "stderr",
     "output_type": "stream",
     "text": [
      "<ipython-input-11-e44630952ad2>:79: SettingWithCopyWarning: \n",
      "A value is trying to be set on a copy of a slice from a DataFrame\n",
      "\n",
      "See the caveats in the documentation: https://pandas.pydata.org/pandas-docs/stable/user_guide/indexing.html#returning-a-view-versus-a-copy\n",
      "  df_main_flat_clean[cols].dropna(inplace=True)\n"
     ]
    },
    {
     "name": "stdout",
     "output_type": "stream",
     "text": [
      "22\n"
     ]
    },
    {
     "name": "stderr",
     "output_type": "stream",
     "text": [
      "<ipython-input-11-e44630952ad2>:79: SettingWithCopyWarning: \n",
      "A value is trying to be set on a copy of a slice from a DataFrame\n",
      "\n",
      "See the caveats in the documentation: https://pandas.pydata.org/pandas-docs/stable/user_guide/indexing.html#returning-a-view-versus-a-copy\n",
      "  df_main_flat_clean[cols].dropna(inplace=True)\n"
     ]
    },
    {
     "name": "stdout",
     "output_type": "stream",
     "text": [
      "23\n"
     ]
    },
    {
     "name": "stderr",
     "output_type": "stream",
     "text": [
      "<ipython-input-11-e44630952ad2>:79: SettingWithCopyWarning: \n",
      "A value is trying to be set on a copy of a slice from a DataFrame\n",
      "\n",
      "See the caveats in the documentation: https://pandas.pydata.org/pandas-docs/stable/user_guide/indexing.html#returning-a-view-versus-a-copy\n",
      "  df_main_flat_clean[cols].dropna(inplace=True)\n"
     ]
    },
    {
     "name": "stdout",
     "output_type": "stream",
     "text": [
      "24\n"
     ]
    },
    {
     "name": "stderr",
     "output_type": "stream",
     "text": [
      "<ipython-input-11-e44630952ad2>:79: SettingWithCopyWarning: \n",
      "A value is trying to be set on a copy of a slice from a DataFrame\n",
      "\n",
      "See the caveats in the documentation: https://pandas.pydata.org/pandas-docs/stable/user_guide/indexing.html#returning-a-view-versus-a-copy\n",
      "  df_main_flat_clean[cols].dropna(inplace=True)\n"
     ]
    },
    {
     "name": "stdout",
     "output_type": "stream",
     "text": [
      "25\n"
     ]
    },
    {
     "name": "stderr",
     "output_type": "stream",
     "text": [
      "<ipython-input-11-e44630952ad2>:79: SettingWithCopyWarning: \n",
      "A value is trying to be set on a copy of a slice from a DataFrame\n",
      "\n",
      "See the caveats in the documentation: https://pandas.pydata.org/pandas-docs/stable/user_guide/indexing.html#returning-a-view-versus-a-copy\n",
      "  df_main_flat_clean[cols].dropna(inplace=True)\n"
     ]
    },
    {
     "name": "stdout",
     "output_type": "stream",
     "text": [
      "26\n"
     ]
    },
    {
     "name": "stderr",
     "output_type": "stream",
     "text": [
      "<ipython-input-11-e44630952ad2>:79: SettingWithCopyWarning: \n",
      "A value is trying to be set on a copy of a slice from a DataFrame\n",
      "\n",
      "See the caveats in the documentation: https://pandas.pydata.org/pandas-docs/stable/user_guide/indexing.html#returning-a-view-versus-a-copy\n",
      "  df_main_flat_clean[cols].dropna(inplace=True)\n"
     ]
    },
    {
     "name": "stdout",
     "output_type": "stream",
     "text": [
      "27\n"
     ]
    },
    {
     "name": "stderr",
     "output_type": "stream",
     "text": [
      "<ipython-input-11-e44630952ad2>:79: SettingWithCopyWarning: \n",
      "A value is trying to be set on a copy of a slice from a DataFrame\n",
      "\n",
      "See the caveats in the documentation: https://pandas.pydata.org/pandas-docs/stable/user_guide/indexing.html#returning-a-view-versus-a-copy\n",
      "  df_main_flat_clean[cols].dropna(inplace=True)\n"
     ]
    },
    {
     "name": "stdout",
     "output_type": "stream",
     "text": [
      "28\n"
     ]
    },
    {
     "name": "stderr",
     "output_type": "stream",
     "text": [
      "<ipython-input-11-e44630952ad2>:79: SettingWithCopyWarning: \n",
      "A value is trying to be set on a copy of a slice from a DataFrame\n",
      "\n",
      "See the caveats in the documentation: https://pandas.pydata.org/pandas-docs/stable/user_guide/indexing.html#returning-a-view-versus-a-copy\n",
      "  df_main_flat_clean[cols].dropna(inplace=True)\n"
     ]
    },
    {
     "name": "stdout",
     "output_type": "stream",
     "text": [
      "29\n"
     ]
    },
    {
     "name": "stderr",
     "output_type": "stream",
     "text": [
      "<ipython-input-11-e44630952ad2>:79: SettingWithCopyWarning: \n",
      "A value is trying to be set on a copy of a slice from a DataFrame\n",
      "\n",
      "See the caveats in the documentation: https://pandas.pydata.org/pandas-docs/stable/user_guide/indexing.html#returning-a-view-versus-a-copy\n",
      "  df_main_flat_clean[cols].dropna(inplace=True)\n"
     ]
    },
    {
     "name": "stdout",
     "output_type": "stream",
     "text": [
      "30\n"
     ]
    },
    {
     "name": "stderr",
     "output_type": "stream",
     "text": [
      "<ipython-input-11-e44630952ad2>:79: SettingWithCopyWarning: \n",
      "A value is trying to be set on a copy of a slice from a DataFrame\n",
      "\n",
      "See the caveats in the documentation: https://pandas.pydata.org/pandas-docs/stable/user_guide/indexing.html#returning-a-view-versus-a-copy\n",
      "  df_main_flat_clean[cols].dropna(inplace=True)\n"
     ]
    },
    {
     "name": "stdout",
     "output_type": "stream",
     "text": [
      "31\n"
     ]
    },
    {
     "name": "stderr",
     "output_type": "stream",
     "text": [
      "<ipython-input-11-e44630952ad2>:79: SettingWithCopyWarning: \n",
      "A value is trying to be set on a copy of a slice from a DataFrame\n",
      "\n",
      "See the caveats in the documentation: https://pandas.pydata.org/pandas-docs/stable/user_guide/indexing.html#returning-a-view-versus-a-copy\n",
      "  df_main_flat_clean[cols].dropna(inplace=True)\n"
     ]
    },
    {
     "name": "stdout",
     "output_type": "stream",
     "text": [
      "32\n"
     ]
    },
    {
     "name": "stderr",
     "output_type": "stream",
     "text": [
      "<ipython-input-11-e44630952ad2>:79: SettingWithCopyWarning: \n",
      "A value is trying to be set on a copy of a slice from a DataFrame\n",
      "\n",
      "See the caveats in the documentation: https://pandas.pydata.org/pandas-docs/stable/user_guide/indexing.html#returning-a-view-versus-a-copy\n",
      "  df_main_flat_clean[cols].dropna(inplace=True)\n"
     ]
    },
    {
     "name": "stdout",
     "output_type": "stream",
     "text": [
      "33\n"
     ]
    },
    {
     "name": "stderr",
     "output_type": "stream",
     "text": [
      "<ipython-input-11-e44630952ad2>:79: SettingWithCopyWarning: \n",
      "A value is trying to be set on a copy of a slice from a DataFrame\n",
      "\n",
      "See the caveats in the documentation: https://pandas.pydata.org/pandas-docs/stable/user_guide/indexing.html#returning-a-view-versus-a-copy\n",
      "  df_main_flat_clean[cols].dropna(inplace=True)\n"
     ]
    },
    {
     "name": "stdout",
     "output_type": "stream",
     "text": [
      "34\n"
     ]
    },
    {
     "name": "stderr",
     "output_type": "stream",
     "text": [
      "<ipython-input-11-e44630952ad2>:79: SettingWithCopyWarning: \n",
      "A value is trying to be set on a copy of a slice from a DataFrame\n",
      "\n",
      "See the caveats in the documentation: https://pandas.pydata.org/pandas-docs/stable/user_guide/indexing.html#returning-a-view-versus-a-copy\n",
      "  df_main_flat_clean[cols].dropna(inplace=True)\n"
     ]
    },
    {
     "name": "stdout",
     "output_type": "stream",
     "text": [
      "35\n",
      "3 error\n"
     ]
    },
    {
     "name": "stderr",
     "output_type": "stream",
     "text": [
      "<ipython-input-11-e44630952ad2>:79: SettingWithCopyWarning: \n",
      "A value is trying to be set on a copy of a slice from a DataFrame\n",
      "\n",
      "See the caveats in the documentation: https://pandas.pydata.org/pandas-docs/stable/user_guide/indexing.html#returning-a-view-versus-a-copy\n",
      "  df_main_flat_clean[cols].dropna(inplace=True)\n"
     ]
    },
    {
     "name": "stdout",
     "output_type": "stream",
     "text": [
      "36\n"
     ]
    },
    {
     "name": "stderr",
     "output_type": "stream",
     "text": [
      "<ipython-input-11-e44630952ad2>:79: SettingWithCopyWarning: \n",
      "A value is trying to be set on a copy of a slice from a DataFrame\n",
      "\n",
      "See the caveats in the documentation: https://pandas.pydata.org/pandas-docs/stable/user_guide/indexing.html#returning-a-view-versus-a-copy\n",
      "  df_main_flat_clean[cols].dropna(inplace=True)\n"
     ]
    },
    {
     "name": "stdout",
     "output_type": "stream",
     "text": [
      "37\n"
     ]
    },
    {
     "name": "stderr",
     "output_type": "stream",
     "text": [
      "<ipython-input-11-e44630952ad2>:79: SettingWithCopyWarning: \n",
      "A value is trying to be set on a copy of a slice from a DataFrame\n",
      "\n",
      "See the caveats in the documentation: https://pandas.pydata.org/pandas-docs/stable/user_guide/indexing.html#returning-a-view-versus-a-copy\n",
      "  df_main_flat_clean[cols].dropna(inplace=True)\n"
     ]
    },
    {
     "name": "stdout",
     "output_type": "stream",
     "text": [
      "38\n"
     ]
    },
    {
     "name": "stderr",
     "output_type": "stream",
     "text": [
      "<ipython-input-11-e44630952ad2>:79: SettingWithCopyWarning: \n",
      "A value is trying to be set on a copy of a slice from a DataFrame\n",
      "\n",
      "See the caveats in the documentation: https://pandas.pydata.org/pandas-docs/stable/user_guide/indexing.html#returning-a-view-versus-a-copy\n",
      "  df_main_flat_clean[cols].dropna(inplace=True)\n"
     ]
    },
    {
     "name": "stdout",
     "output_type": "stream",
     "text": [
      "39\n"
     ]
    },
    {
     "name": "stderr",
     "output_type": "stream",
     "text": [
      "<ipython-input-11-e44630952ad2>:79: SettingWithCopyWarning: \n",
      "A value is trying to be set on a copy of a slice from a DataFrame\n",
      "\n",
      "See the caveats in the documentation: https://pandas.pydata.org/pandas-docs/stable/user_guide/indexing.html#returning-a-view-versus-a-copy\n",
      "  df_main_flat_clean[cols].dropna(inplace=True)\n"
     ]
    },
    {
     "name": "stdout",
     "output_type": "stream",
     "text": [
      "40\n"
     ]
    },
    {
     "name": "stderr",
     "output_type": "stream",
     "text": [
      "<ipython-input-11-e44630952ad2>:79: SettingWithCopyWarning: \n",
      "A value is trying to be set on a copy of a slice from a DataFrame\n",
      "\n",
      "See the caveats in the documentation: https://pandas.pydata.org/pandas-docs/stable/user_guide/indexing.html#returning-a-view-versus-a-copy\n",
      "  df_main_flat_clean[cols].dropna(inplace=True)\n"
     ]
    },
    {
     "name": "stdout",
     "output_type": "stream",
     "text": [
      "41\n"
     ]
    }
   ],
   "source": [
    "def create_db():\n",
    "    #make connection object to connect with database\n",
    "    connection_obj = sqlite3.connect('DBL_GROUP_7.db')\n",
    " \n",
    "    # cursor object\n",
    "    cursor_obj = connection_obj.cursor()\n",
    " \n",
    "    # Drop the data table if already exists.\n",
    "    cursor_obj.execute(\"DROP TABLE IF EXISTS all_data\")\n",
    " \n",
    "    # Creating table\n",
    "    table = \"\"\" CREATE TABLE IF NOT EXISTS all_data (\n",
    "            created_at VARCHAR(255) NOT NULL,\n",
    "            id INT NOT NULL,\n",
    "            text VARCHAR(255),\n",
    "            truncated VARCHAR(255),\n",
    "            in_reply_to_status_id VARCHAR(255),\n",
    "            reply_count INT,\n",
    "            retweet_count INT,\n",
    "            favorite_count INT,\n",
    "            lang VARCHAR,\n",
    "            timestamp_ms VARCHAR,\n",
    "            extended_tweet VARCHAR,\n",
    "            user_id INT,\n",
    "            user_name VARCHAR,\n",
    "            entities_user_mentions VARCHAR,\n",
    "            year INT,\n",
    "            month INT,\n",
    "            day INT\n",
    "            \n",
    "        ); \"\"\"\n",
    " \n",
    "    cursor_obj.execute(table)\n",
    "   \n",
    " \n",
    "    print(\"Table is Ready\")\n",
    " \n",
    "    # Close the connection\n",
    "    connection_obj.close()\n",
    "    \n",
    "\n",
    "\n",
    "    \n",
    "db_file = 'DBL_GROUP_7.db'\n",
    "\n",
    "            \n",
    "def create_connection(db_file):\n",
    "    \"\"\" create a database connection to the SQLite database\n",
    "        specified by the db_file\n",
    "    :param db_file: database file\n",
    "    :return: Connection object or None\n",
    "    \"\"\"\n",
    "    conn = None\n",
    "    try:\n",
    "        conn = sqlite3.connect(db_file)\n",
    "    except Error as e:\n",
    "        print(e)\n",
    "\n",
    "    return conn\n",
    "\n",
    "\n",
    "def load_data(file):\n",
    "    #using the connec_to_db function to connect to database\n",
    "    conn = create_connection(db_file)\n",
    "    # Reading data from file directory\n",
    "    df = pd.read_json(file, lines=True)\n",
    "    # Dropping all rows which contain Nan values from column of cols\n",
    "    df_main = df.drop(df[df.lang != 'en'].index)\n",
    "    # Normalize data in different json tables to make it one table\n",
    "    df_main_flat = pd.json_normalize(json.loads(df_main.to_json(orient=\"records\")))\n",
    "    # Turning the created at column to its original values\n",
    "    df_main_flat[\"created_at\"] = pd.to_datetime(df_main_flat[\"created_at\"], utc=True, unit='ms')\n",
    "    # Selecting columns we need for analyzing\n",
    "    df_main_flat_clean = df_main_flat[['created_at', 'id', 'text', 'user.id', 'truncated', 'in_reply_to_status_id', 'reply_count', 'retweet_count', 'favorite_count', 'lang', 'timestamp_ms', 'extended_tweet', 'user.name']].copy()\n",
    "    # Changing all values in columns listed below that have a 0 or no value to Nan values\n",
    "    cols = ['created_at', 'id', 'text', 'user.id']\n",
    "    df_main_flat_clean[cols] = df_main_flat_clean[cols].replace({'0':np.nan, 0:np.nan, '':np.nan, ' ':np.nan})   \n",
    "    # Dropping all rows which contain Nan values from column of cols\n",
    "    df_main_flat_clean[cols].dropna(inplace=True)\n",
    "    # Renaming the columns to names which are in the database\n",
    "    df_main_flat_clean = df_main_flat_clean.rename(columns={'user.id': 'user_id', 'user.name' : 'user_name'})\n",
    "    # Making new rows to include the year, month and day\n",
    "    df_main_flat_clean['year'] = df_main_flat_clean['created_at'].dt.year\n",
    "    df_main_flat_clean['month'] = df_main_flat_clean['created_at'].dt.month \n",
    "    df_main_flat_clean['day'] = df_main_flat_clean['created_at'].dt.day\n",
    "    # Appending remaining dataframe to sql database\n",
    "    df_main_flat_clean.to_sql(name='all_data', con=conn, if_exists='append', index=False)\n",
    "    \n",
    "      \n",
    "\n",
    "    \n",
    "# select directory which has all of the json files\n",
    "a_directory = \"Data\"\n",
    "# making variable for indicating number of succesfull attempt of opening files\n",
    "correct = 0\n",
    "# making variable for indicating number of unsuccesfull attempt of opening files\n",
    "incorrect = 0\n",
    "\n",
    "create_db()\n",
    "#this for loop will call the load_data function for every file in the directory\n",
    "for file in os.listdir(a_directory):\n",
    "    filepath = os.path.join(a_directory, file)\n",
    "    try:\n",
    "        load_data(filepath)\n",
    "        correct += 1\n",
    "        print(correct)\n",
    "    except: \n",
    "        incorrect += 1\n",
    "        print(f'{incorrect} error')\n",
    "    if incorrect > 20:\n",
    "        break"
   ]
  },
  {
   "cell_type": "code",
   "execution_count": null,
   "id": "6d3e760d",
   "metadata": {},
   "outputs": [],
   "source": [
    "print(incorrect)"
   ]
  },
  {
   "cell_type": "code",
   "execution_count": null,
   "id": "acd5a142",
   "metadata": {},
   "outputs": [],
   "source": [
    "def sql_to_df(conn):\n",
    "    \"\"\"\n",
    "    Query all rows in the tasks table\n",
    "    :param conn: the Connection object\n",
    "    :return:\n",
    "    \"\"\"\n",
    "    sql_query = pd.read_sql_query ('''\n",
    "                               SELECT\n",
    "                               *\n",
    "                               FROM all_data\n",
    "                               ''', conn)\n",
    "\n",
    "    df = pd.DataFrame(sql_query)\n",
    "\n",
    "\n",
    "    \n",
    "    return df\n",
    "\n",
    "# Makes a df from sql database\n",
    "df = sql_to_df(create_connection(db_file))"
   ]
  },
  {
   "cell_type": "code",
   "execution_count": 6,
   "id": "cb44fff2",
   "metadata": {},
   "outputs": [
    {
     "data": {
      "text/html": [
       "<div>\n",
       "<style scoped>\n",
       "    .dataframe tbody tr th:only-of-type {\n",
       "        vertical-align: middle;\n",
       "    }\n",
       "\n",
       "    .dataframe tbody tr th {\n",
       "        vertical-align: top;\n",
       "    }\n",
       "\n",
       "    .dataframe thead th {\n",
       "        text-align: right;\n",
       "    }\n",
       "</style>\n",
       "<table border=\"1\" class=\"dataframe\">\n",
       "  <thead>\n",
       "    <tr style=\"text-align: right;\">\n",
       "      <th></th>\n",
       "      <th>created_at</th>\n",
       "      <th>id</th>\n",
       "      <th>text</th>\n",
       "      <th>truncated</th>\n",
       "      <th>in_reply_to_status_id</th>\n",
       "      <th>reply_count</th>\n",
       "      <th>retweet_count</th>\n",
       "      <th>favorite_count</th>\n",
       "      <th>lang</th>\n",
       "      <th>timestamp_ms</th>\n",
       "      <th>extended_tweet</th>\n",
       "      <th>user_id</th>\n",
       "      <th>user_name</th>\n",
       "      <th>entities_user_mentions</th>\n",
       "      <th>year</th>\n",
       "      <th>week</th>\n",
       "      <th>day</th>\n",
       "    </tr>\n",
       "  </thead>\n",
       "  <tbody>\n",
       "    <tr>\n",
       "      <th>0</th>\n",
       "      <td>2019-05-22 12:20:01+00:00</td>\n",
       "      <td>1131172864000000000</td>\n",
       "      <td>RT @bttr_as1: @goody_tracy Here’s a list of so...</td>\n",
       "      <td>0.0</td>\n",
       "      <td>None</td>\n",
       "      <td>0</td>\n",
       "      <td>0</td>\n",
       "      <td>0</td>\n",
       "      <td>en</td>\n",
       "      <td>1558527601645</td>\n",
       "      <td>None</td>\n",
       "      <td>3420691215</td>\n",
       "      <td>hounddog</td>\n",
       "      <td>None</td>\n",
       "      <td>2019</td>\n",
       "      <td>21</td>\n",
       "      <td>22</td>\n",
       "    </tr>\n",
       "    <tr>\n",
       "      <th>1</th>\n",
       "      <td>2019-05-22 12:20:12+00:00</td>\n",
       "      <td>1131172909000000000</td>\n",
       "      <td>RT @TheRaceRadio: Nice change by @AmericanAir....</td>\n",
       "      <td>0.0</td>\n",
       "      <td>None</td>\n",
       "      <td>0</td>\n",
       "      <td>0</td>\n",
       "      <td>0</td>\n",
       "      <td>en</td>\n",
       "      <td>1558527612449</td>\n",
       "      <td>None</td>\n",
       "      <td>36488556</td>\n",
       "      <td>Bar Buzard</td>\n",
       "      <td>None</td>\n",
       "      <td>2019</td>\n",
       "      <td>21</td>\n",
       "      <td>22</td>\n",
       "    </tr>\n",
       "    <tr>\n",
       "      <th>2</th>\n",
       "      <td>2019-05-22 12:20:28+00:00</td>\n",
       "      <td>1131172976000000000</td>\n",
       "      <td>RT @sandeeprrao1991: BREAKING:-\\nKLM to fly 3x...</td>\n",
       "      <td>0.0</td>\n",
       "      <td>None</td>\n",
       "      <td>0</td>\n",
       "      <td>0</td>\n",
       "      <td>0</td>\n",
       "      <td>en</td>\n",
       "      <td>1558527628237</td>\n",
       "      <td>None</td>\n",
       "      <td>14193348</td>\n",
       "      <td>Nimish Gupta</td>\n",
       "      <td>None</td>\n",
       "      <td>2019</td>\n",
       "      <td>21</td>\n",
       "      <td>22</td>\n",
       "    </tr>\n",
       "    <tr>\n",
       "      <th>3</th>\n",
       "      <td>2019-05-22 12:20:36+00:00</td>\n",
       "      <td>1131173010000000000</td>\n",
       "      <td>EasyJet was on a slippery slope when it charge...</td>\n",
       "      <td>0.0</td>\n",
       "      <td>None</td>\n",
       "      <td>0</td>\n",
       "      <td>0</td>\n",
       "      <td>0</td>\n",
       "      <td>en</td>\n",
       "      <td>1558527636475</td>\n",
       "      <td>None</td>\n",
       "      <td>1025334292166127617</td>\n",
       "      <td>AiroLuggage</td>\n",
       "      <td>None</td>\n",
       "      <td>2019</td>\n",
       "      <td>21</td>\n",
       "      <td>22</td>\n",
       "    </tr>\n",
       "    <tr>\n",
       "      <th>4</th>\n",
       "      <td>2019-05-22 12:20:36+00:00</td>\n",
       "      <td>1131173011000000000</td>\n",
       "      <td>Thanks @British_Airways I really needed the ex...</td>\n",
       "      <td>0.0</td>\n",
       "      <td>None</td>\n",
       "      <td>0</td>\n",
       "      <td>0</td>\n",
       "      <td>0</td>\n",
       "      <td>en</td>\n",
       "      <td>1558527636540</td>\n",
       "      <td>None</td>\n",
       "      <td>1662186764</td>\n",
       "      <td>Jings, crivvens...</td>\n",
       "      <td>None</td>\n",
       "      <td>2019</td>\n",
       "      <td>21</td>\n",
       "      <td>22</td>\n",
       "    </tr>\n",
       "    <tr>\n",
       "      <th>5</th>\n",
       "      <td>2019-05-22 12:20:43+00:00</td>\n",
       "      <td>1131173038000000000</td>\n",
       "      <td>@easyJet It is impossible to get in contact wi...</td>\n",
       "      <td>1.0</td>\n",
       "      <td>1.131101347e+18</td>\n",
       "      <td>0</td>\n",
       "      <td>0</td>\n",
       "      <td>0</td>\n",
       "      <td>en</td>\n",
       "      <td>1558527643141</td>\n",
       "      <td>None</td>\n",
       "      <td>19610469</td>\n",
       "      <td>Margriet</td>\n",
       "      <td>None</td>\n",
       "      <td>2019</td>\n",
       "      <td>21</td>\n",
       "      <td>22</td>\n",
       "    </tr>\n",
       "    <tr>\n",
       "      <th>6</th>\n",
       "      <td>2019-05-22 12:20:49+00:00</td>\n",
       "      <td>1131173065000000000</td>\n",
       "      <td>So @AmericanAir @EWRairport lied to an old lad...</td>\n",
       "      <td>1.0</td>\n",
       "      <td>None</td>\n",
       "      <td>0</td>\n",
       "      <td>0</td>\n",
       "      <td>0</td>\n",
       "      <td>en</td>\n",
       "      <td>1558527649561</td>\n",
       "      <td>None</td>\n",
       "      <td>2730172562</td>\n",
       "      <td>Daman</td>\n",
       "      <td>None</td>\n",
       "      <td>2019</td>\n",
       "      <td>21</td>\n",
       "      <td>22</td>\n",
       "    </tr>\n",
       "    <tr>\n",
       "      <th>7</th>\n",
       "      <td>2019-05-22 12:21:07+00:00</td>\n",
       "      <td>1131173142000000000</td>\n",
       "      <td>And had to pay extra £50 because bag wouldnt f...</td>\n",
       "      <td>0.0</td>\n",
       "      <td>1.131166003e+18</td>\n",
       "      <td>0</td>\n",
       "      <td>0</td>\n",
       "      <td>0</td>\n",
       "      <td>en</td>\n",
       "      <td>1558527667989</td>\n",
       "      <td>None</td>\n",
       "      <td>210981687</td>\n",
       "      <td>James Anthony</td>\n",
       "      <td>None</td>\n",
       "      <td>2019</td>\n",
       "      <td>21</td>\n",
       "      <td>22</td>\n",
       "    </tr>\n",
       "    <tr>\n",
       "      <th>8</th>\n",
       "      <td>2019-05-22 12:21:23+00:00</td>\n",
       "      <td>1131173208000000000</td>\n",
       "      <td>@PeripateNic @VirginAtlantic Where are you fly...</td>\n",
       "      <td>0.0</td>\n",
       "      <td>1.130838586e+18</td>\n",
       "      <td>0</td>\n",
       "      <td>0</td>\n",
       "      <td>0</td>\n",
       "      <td>en</td>\n",
       "      <td>1558527683592</td>\n",
       "      <td>None</td>\n",
       "      <td>288109185</td>\n",
       "      <td>Jason</td>\n",
       "      <td>None</td>\n",
       "      <td>2019</td>\n",
       "      <td>21</td>\n",
       "      <td>22</td>\n",
       "    </tr>\n",
       "    <tr>\n",
       "      <th>9</th>\n",
       "      <td>2019-05-22 12:21:36+00:00</td>\n",
       "      <td>1131173264000000000</td>\n",
       "      <td>@AmericanAir, I should be on a flight to LA, i...</td>\n",
       "      <td>1.0</td>\n",
       "      <td>None</td>\n",
       "      <td>0</td>\n",
       "      <td>0</td>\n",
       "      <td>0</td>\n",
       "      <td>en</td>\n",
       "      <td>1558527696926</td>\n",
       "      <td>None</td>\n",
       "      <td>2740476184</td>\n",
       "      <td>Kristen Karaliunas</td>\n",
       "      <td>None</td>\n",
       "      <td>2019</td>\n",
       "      <td>21</td>\n",
       "      <td>22</td>\n",
       "    </tr>\n",
       "  </tbody>\n",
       "</table>\n",
       "</div>"
      ],
      "text/plain": [
       "                  created_at                   id  \\\n",
       "0  2019-05-22 12:20:01+00:00  1131172864000000000   \n",
       "1  2019-05-22 12:20:12+00:00  1131172909000000000   \n",
       "2  2019-05-22 12:20:28+00:00  1131172976000000000   \n",
       "3  2019-05-22 12:20:36+00:00  1131173010000000000   \n",
       "4  2019-05-22 12:20:36+00:00  1131173011000000000   \n",
       "5  2019-05-22 12:20:43+00:00  1131173038000000000   \n",
       "6  2019-05-22 12:20:49+00:00  1131173065000000000   \n",
       "7  2019-05-22 12:21:07+00:00  1131173142000000000   \n",
       "8  2019-05-22 12:21:23+00:00  1131173208000000000   \n",
       "9  2019-05-22 12:21:36+00:00  1131173264000000000   \n",
       "\n",
       "                                                text truncated  \\\n",
       "0  RT @bttr_as1: @goody_tracy Here’s a list of so...       0.0   \n",
       "1  RT @TheRaceRadio: Nice change by @AmericanAir....       0.0   \n",
       "2  RT @sandeeprrao1991: BREAKING:-\\nKLM to fly 3x...       0.0   \n",
       "3  EasyJet was on a slippery slope when it charge...       0.0   \n",
       "4  Thanks @British_Airways I really needed the ex...       0.0   \n",
       "5  @easyJet It is impossible to get in contact wi...       1.0   \n",
       "6  So @AmericanAir @EWRairport lied to an old lad...       1.0   \n",
       "7  And had to pay extra £50 because bag wouldnt f...       0.0   \n",
       "8  @PeripateNic @VirginAtlantic Where are you fly...       0.0   \n",
       "9  @AmericanAir, I should be on a flight to LA, i...       1.0   \n",
       "\n",
       "  in_reply_to_status_id  reply_count  retweet_count  favorite_count lang  \\\n",
       "0                  None            0              0               0   en   \n",
       "1                  None            0              0               0   en   \n",
       "2                  None            0              0               0   en   \n",
       "3                  None            0              0               0   en   \n",
       "4                  None            0              0               0   en   \n",
       "5       1.131101347e+18            0              0               0   en   \n",
       "6                  None            0              0               0   en   \n",
       "7       1.131166003e+18            0              0               0   en   \n",
       "8       1.130838586e+18            0              0               0   en   \n",
       "9                  None            0              0               0   en   \n",
       "\n",
       "    timestamp_ms extended_tweet              user_id           user_name  \\\n",
       "0  1558527601645           None           3420691215            hounddog   \n",
       "1  1558527612449           None             36488556          Bar Buzard   \n",
       "2  1558527628237           None             14193348        Nimish Gupta   \n",
       "3  1558527636475           None  1025334292166127617         AiroLuggage   \n",
       "4  1558527636540           None           1662186764  Jings, crivvens...   \n",
       "5  1558527643141           None             19610469            Margriet   \n",
       "6  1558527649561           None           2730172562               Daman   \n",
       "7  1558527667989           None            210981687       James Anthony   \n",
       "8  1558527683592           None            288109185               Jason   \n",
       "9  1558527696926           None           2740476184  Kristen Karaliunas   \n",
       "\n",
       "  entities_user_mentions  year  week  day  \n",
       "0                   None  2019    21   22  \n",
       "1                   None  2019    21   22  \n",
       "2                   None  2019    21   22  \n",
       "3                   None  2019    21   22  \n",
       "4                   None  2019    21   22  \n",
       "5                   None  2019    21   22  \n",
       "6                   None  2019    21   22  \n",
       "7                   None  2019    21   22  \n",
       "8                   None  2019    21   22  \n",
       "9                   None  2019    21   22  "
      ]
     },
     "execution_count": 6,
     "metadata": {},
     "output_type": "execute_result"
    }
   ],
   "source": [
    "df.head(10)"
   ]
  },
  {
   "cell_type": "code",
   "execution_count": 8,
   "id": "7cbe79ac",
   "metadata": {},
   "outputs": [
    {
     "data": {
      "image/png": "[encoded data removed]",
      "text/plain": [
       "<Figure size 1080x720 with 1 Axes>"
      ]
     },
     "metadata": {
      "needs_background": "light"
     },
     "output_type": "display_data"
    }
   ],
   "source": [
    "df_grouped_id = df.groupby([\"year\",\"month\",\"day\"]).count()\n",
    "ax = df_grouped_id['created_at'].plot(figsize=(15,10));\n",
    "\n"
   ]
  },
  {
   "cell_type": "code",
   "execution_count": 9,
   "id": "30cfe361",
   "metadata": {},
   "outputs": [
    {
     "data": {
      "text/html": [
       "<div>\n",
       "<style scoped>\n",
       "    .dataframe tbody tr th:only-of-type {\n",
       "        vertical-align: middle;\n",
       "    }\n",
       "\n",
       "    .dataframe tbody tr th {\n",
       "        vertical-align: top;\n",
       "    }\n",
       "\n",
       "    .dataframe thead th {\n",
       "        text-align: right;\n",
       "    }\n",
       "</style>\n",
       "<table border=\"1\" class=\"dataframe\">\n",
       "  <thead>\n",
       "    <tr style=\"text-align: right;\">\n",
       "      <th></th>\n",
       "      <th></th>\n",
       "      <th></th>\n",
       "      <th>created_at</th>\n",
       "      <th>id</th>\n",
       "      <th>text</th>\n",
       "      <th>truncated</th>\n",
       "      <th>in_reply_to_status_id</th>\n",
       "      <th>reply_count</th>\n",
       "      <th>retweet_count</th>\n",
       "      <th>favorite_count</th>\n",
       "      <th>lang</th>\n",
       "      <th>timestamp_ms</th>\n",
       "      <th>extended_tweet</th>\n",
       "      <th>user_id</th>\n",
       "      <th>user_name</th>\n",
       "      <th>entities_user_mentions</th>\n",
       "      <th>week</th>\n",
       "    </tr>\n",
       "    <tr>\n",
       "      <th>year</th>\n",
       "      <th>week</th>\n",
       "      <th>day</th>\n",
       "      <th></th>\n",
       "      <th></th>\n",
       "      <th></th>\n",
       "      <th></th>\n",
       "      <th></th>\n",
       "      <th></th>\n",
       "      <th></th>\n",
       "      <th></th>\n",
       "      <th></th>\n",
       "      <th></th>\n",
       "      <th></th>\n",
       "      <th></th>\n",
       "      <th></th>\n",
       "      <th></th>\n",
       "      <th></th>\n",
       "    </tr>\n",
       "  </thead>\n",
       "  <tbody>\n",
       "    <tr>\n",
       "      <th rowspan=\"5\" valign=\"top\">2019</th>\n",
       "      <th rowspan=\"2\" valign=\"top\">1</th>\n",
       "      <th>30</th>\n",
       "      <td>8710</td>\n",
       "      <td>8710</td>\n",
       "      <td>8710</td>\n",
       "      <td>8710</td>\n",
       "      <td>3358</td>\n",
       "      <td>8710</td>\n",
       "      <td>8710</td>\n",
       "      <td>8710</td>\n",
       "      <td>8710</td>\n",
       "      <td>8710</td>\n",
       "      <td>0</td>\n",
       "      <td>8710</td>\n",
       "      <td>8710</td>\n",
       "      <td>0</td>\n",
       "      <td>(2019, 1, 30)</td>\n",
       "    </tr>\n",
       "    <tr>\n",
       "      <th>31</th>\n",
       "      <td>7567</td>\n",
       "      <td>7567</td>\n",
       "      <td>7567</td>\n",
       "      <td>7567</td>\n",
       "      <td>3363</td>\n",
       "      <td>7567</td>\n",
       "      <td>7567</td>\n",
       "      <td>7567</td>\n",
       "      <td>7567</td>\n",
       "      <td>7567</td>\n",
       "      <td>0</td>\n",
       "      <td>7567</td>\n",
       "      <td>7567</td>\n",
       "      <td>0</td>\n",
       "      <td>(2019, 1, 31)</td>\n",
       "    </tr>\n",
       "    <tr>\n",
       "      <th rowspan=\"3\" valign=\"top\">21</th>\n",
       "      <th>22</th>\n",
       "      <td>9404</td>\n",
       "      <td>9404</td>\n",
       "      <td>9404</td>\n",
       "      <td>9404</td>\n",
       "      <td>3335</td>\n",
       "      <td>9404</td>\n",
       "      <td>9404</td>\n",
       "      <td>9404</td>\n",
       "      <td>9404</td>\n",
       "      <td>9404</td>\n",
       "      <td>0</td>\n",
       "      <td>9404</td>\n",
       "      <td>9404</td>\n",
       "      <td>0</td>\n",
       "      <td>(2019, 21, 22)</td>\n",
       "    </tr>\n",
       "    <tr>\n",
       "      <th>23</th>\n",
       "      <td>13061</td>\n",
       "      <td>13061</td>\n",
       "      <td>13061</td>\n",
       "      <td>13061</td>\n",
       "      <td>4247</td>\n",
       "      <td>13061</td>\n",
       "      <td>13061</td>\n",
       "      <td>13061</td>\n",
       "      <td>13061</td>\n",
       "      <td>13061</td>\n",
       "      <td>0</td>\n",
       "      <td>13061</td>\n",
       "      <td>13061</td>\n",
       "      <td>0</td>\n",
       "      <td>(2019, 21, 23)</td>\n",
       "    </tr>\n",
       "    <tr>\n",
       "      <th>24</th>\n",
       "      <td>17812</td>\n",
       "      <td>17812</td>\n",
       "      <td>17812</td>\n",
       "      <td>17812</td>\n",
       "      <td>6098</td>\n",
       "      <td>17812</td>\n",
       "      <td>17812</td>\n",
       "      <td>17812</td>\n",
       "      <td>17812</td>\n",
       "      <td>17812</td>\n",
       "      <td>0</td>\n",
       "      <td>17812</td>\n",
       "      <td>17812</td>\n",
       "      <td>0</td>\n",
       "      <td>(2019, 21, 24)</td>\n",
       "    </tr>\n",
       "  </tbody>\n",
       "</table>\n",
       "</div>"
      ],
      "text/plain": [
       "               created_at     id   text  truncated  in_reply_to_status_id  \\\n",
       "year week day                                                               \n",
       "2019 1    30         8710   8710   8710       8710                   3358   \n",
       "          31         7567   7567   7567       7567                   3363   \n",
       "     21   22         9404   9404   9404       9404                   3335   \n",
       "          23        13061  13061  13061      13061                   4247   \n",
       "          24        17812  17812  17812      17812                   6098   \n",
       "\n",
       "               reply_count  retweet_count  favorite_count   lang  \\\n",
       "year week day                                                      \n",
       "2019 1    30          8710           8710            8710   8710   \n",
       "          31          7567           7567            7567   7567   \n",
       "     21   22          9404           9404            9404   9404   \n",
       "          23         13061          13061           13061  13061   \n",
       "          24         17812          17812           17812  17812   \n",
       "\n",
       "               timestamp_ms  extended_tweet  user_id  user_name  \\\n",
       "year week day                                                     \n",
       "2019 1    30           8710               0     8710       8710   \n",
       "          31           7567               0     7567       7567   \n",
       "     21   22           9404               0     9404       9404   \n",
       "          23          13061               0    13061      13061   \n",
       "          24          17812               0    17812      17812   \n",
       "\n",
       "               entities_user_mentions            week  \n",
       "year week day                                          \n",
       "2019 1    30                        0   (2019, 1, 30)  \n",
       "          31                        0   (2019, 1, 31)  \n",
       "     21   22                        0  (2019, 21, 22)  \n",
       "          23                        0  (2019, 21, 23)  \n",
       "          24                        0  (2019, 21, 24)  "
      ]
     },
     "execution_count": 9,
     "metadata": {},
     "output_type": "execute_result"
    }
   ],
   "source": [
    "df_grouped_id.head(5)\n",
    "\n",
    "\n",
    "\n"
   ]
  },
  {
   "cell_type": "code",
   "execution_count": null,
   "id": "29f5eca0",
   "metadata": {},
   "outputs": [],
   "source": []
  }
 ],
 "metadata": {
  "kernelspec": {
   "display_name": "Python 3",
   "language": "python",
   "name": "python3"
  },
  "language_info": {
   "codemirror_mode": {
    "name": "ipython",
    "version": 3
   },
   "file_extension": ".py",
   "mimetype": "text/x-python",
   "name": "python",
   "nbconvert_exporter": "python",
   "pygments_lexer": "ipython3",
   "version": "3.8.8"
  }
 },
 "nbformat": 4,
 "nbformat_minor": 5
}
